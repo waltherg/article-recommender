{
 "metadata": {
  "name": "Recommender Based on Authors"
 },
 "nbformat": 3,
 "nbformat_minor": 0,
 "worksheets": [
  {
   "cells": [
    {
     "cell_type": "heading",
     "level": 1,
     "metadata": {},
     "source": [
      "Recommender Based on Authors"
     ]
    },
    {
     "cell_type": "markdown",
     "metadata": {},
     "source": [
      "Find the git repository of this at [https://github.com/waltherg/article-recommender](https://github.com/waltherg/article-recommender).\n",
      "\n",
      "Fetch and fingerprint some article and look for articles on PubMed that are similar to this one.\n",
      "\n",
      "For simplicity, let's look for articles that were written by the same authors.\n",
      "\n",
      "Let's also assume that articles are more relevant for us if they were co-authored by a greater subset of authors of the original paper."
     ]
    },
    {
     "cell_type": "code",
     "collapsed": false,
     "input": [
      "import urllib2\n",
      "import urllib\n",
      "from BeautifulSoup import BeautifulSoup"
     ],
     "language": "python",
     "metadata": {},
     "outputs": [],
     "prompt_number": 1
    },
    {
     "cell_type": "code",
     "collapsed": false,
     "input": [
      "article_url = 'http://link.springer.com/article/10.1007/s11222-010-9198-8'\n",
      "response = urllib2.urlopen(article_url)\n",
      "html_response = response.read()\n",
      "data = BeautifulSoup(html_response)"
     ],
     "language": "python",
     "metadata": {},
     "outputs": [],
     "prompt_number": 2
    },
    {
     "cell_type": "code",
     "collapsed": false,
     "input": [
      "title = data.findAll('title')\n",
      "title"
     ],
     "language": "python",
     "metadata": {},
     "outputs": [
      {
       "output_type": "pyout",
       "prompt_number": 3,
       "text": [
        "[<title>Diffusive nested sampling - Springer</title>]"
       ]
      }
     ],
     "prompt_number": 3
    },
    {
     "cell_type": "code",
     "collapsed": false,
     "input": [
      "authors = data.findAll('meta', {'name':'citation_author'})"
     ],
     "language": "python",
     "metadata": {},
     "outputs": [],
     "prompt_number": 4
    },
    {
     "cell_type": "code",
     "collapsed": false,
     "input": [
      "authors"
     ],
     "language": "python",
     "metadata": {},
     "outputs": [
      {
       "output_type": "pyout",
       "prompt_number": 5,
       "text": [
        "[<meta name=\"citation_author\" content=\"Brendon J. Brewer\" />,\n",
        " <meta name=\"citation_author\" content=\"Livia B. P\u00e1rtay\" />,\n",
        " <meta name=\"citation_author\" content=\"G\u00e1bor Cs\u00e1nyi\" />]"
       ]
      }
     ],
     "prompt_number": 5
    },
    {
     "cell_type": "code",
     "collapsed": false,
     "input": [
      "author_names = [a['content'].encode('utf8') for a in authors]"
     ],
     "language": "python",
     "metadata": {},
     "outputs": [],
     "prompt_number": 6
    },
    {
     "cell_type": "code",
     "collapsed": false,
     "input": [
      "author_names"
     ],
     "language": "python",
     "metadata": {},
     "outputs": [
      {
       "output_type": "pyout",
       "prompt_number": 7,
       "text": [
        "['Brendon J. Brewer', 'Livia B. P\\xc3\\xa1rtay', 'G\\xc3\\xa1bor Cs\\xc3\\xa1nyi']"
       ]
      }
     ],
     "prompt_number": 7
    },
    {
     "cell_type": "markdown",
     "metadata": {},
     "source": [
      "Look for papers on PubMed that the first author appears on."
     ]
    },
    {
     "cell_type": "code",
     "collapsed": false,
     "input": [
      "pubmed_param = {'db': 'pubmed',\n",
      "                'usehistory': 'y',\n",
      "              'term': author_names[0]+' AND '+author_names[1]+'[author]'}\n",
      "pubmed_encoded_param = urllib.urlencode(pubmed_param)\n",
      "pubmed_url = 'http://eutils.ncbi.nlm.nih.gov/entrez/eutils/esearch.fcgi'\n",
      "pubmed_url = pubmed_url + '?' + pubmed_encoded_param\n",
      "pubmed_response = urllib2.urlopen(pubmed_url)\n",
      "xml_response = pubmed_response.read()\n",
      "pubmed_data = BeautifulSoup(xml_response)"
     ],
     "language": "python",
     "metadata": {},
     "outputs": [],
     "prompt_number": 8
    },
    {
     "cell_type": "code",
     "collapsed": false,
     "input": [
      "pubmed_ids = [node.findAll(text=True) for node in pubmed_data.findAll('id')]\n",
      "pubmed_ids = [int(pubmed_id) for pm_list in pubmed_ids for pubmed_id in pm_list]\n",
      "print pubmed_ids"
     ],
     "language": "python",
     "metadata": {},
     "outputs": [
      {
       "output_type": "stream",
       "stream": "stdout",
       "text": [
        "[]\n"
       ]
      }
     ],
     "prompt_number": 9
    },
    {
     "cell_type": "markdown",
     "metadata": {},
     "source": [
      "\n",
      "Let's form all combinations of authors and perform a PubMed search for each combination."
     ]
    },
    {
     "cell_type": "code",
     "collapsed": false,
     "input": [
      "import itertools"
     ],
     "language": "python",
     "metadata": {},
     "outputs": [],
     "prompt_number": 10
    },
    {
     "cell_type": "code",
     "collapsed": false,
     "input": [
      "author_combinations = [list(itertools.combinations(author_names, number_authors)) for number_authors in range(len(author_names)+1)]"
     ],
     "language": "python",
     "metadata": {},
     "outputs": [],
     "prompt_number": 11
    },
    {
     "cell_type": "markdown",
     "metadata": {},
     "source": [
      "This returns a list of lists, so let's tidy this up."
     ]
    },
    {
     "cell_type": "code",
     "collapsed": false,
     "input": [
      "author_combinations = [list(auth_comb) for auth_list in author_combinations for auth_comb in auth_list if len(auth_comb) > 0]"
     ],
     "language": "python",
     "metadata": {},
     "outputs": [],
     "prompt_number": 12
    },
    {
     "cell_type": "code",
     "collapsed": false,
     "input": [
      "author_combinations"
     ],
     "language": "python",
     "metadata": {},
     "outputs": [
      {
       "output_type": "pyout",
       "prompt_number": 13,
       "text": [
        "[['Brendon J. Brewer'],\n",
        " ['Livia B. P\\xc3\\xa1rtay'],\n",
        " ['G\\xc3\\xa1bor Cs\\xc3\\xa1nyi'],\n",
        " ['Brendon J. Brewer', 'Livia B. P\\xc3\\xa1rtay'],\n",
        " ['Brendon J. Brewer', 'G\\xc3\\xa1bor Cs\\xc3\\xa1nyi'],\n",
        " ['Livia B. P\\xc3\\xa1rtay', 'G\\xc3\\xa1bor Cs\\xc3\\xa1nyi'],\n",
        " ['Brendon J. Brewer', 'Livia B. P\\xc3\\xa1rtay', 'G\\xc3\\xa1bor Cs\\xc3\\xa1nyi']]"
       ]
      }
     ],
     "prompt_number": 13
    },
    {
     "cell_type": "markdown",
     "metadata": {},
     "source": [
      "This is how we can join author names with the keyword AND to form the corresponding Google Scholar search queries."
     ]
    },
    {
     "cell_type": "code",
     "collapsed": false,
     "input": [
      "' AND '.join(author_combinations[-1])"
     ],
     "language": "python",
     "metadata": {},
     "outputs": [
      {
       "output_type": "pyout",
       "prompt_number": 14,
       "text": [
        "'Brendon J. Brewer AND Livia B. P\\xc3\\xa1rtay AND G\\xc3\\xa1bor Cs\\xc3\\xa1nyi'"
       ]
      }
     ],
     "prompt_number": 14
    },
    {
     "cell_type": "markdown",
     "metadata": {},
     "source": [
      "Query PubMed for all combinations of authors and save the resultant list of titles together with the number of authors of the corresponding combination:\n",
      "\n",
      "([authors], [UIDs found on PubMed])"
     ]
    },
    {
     "cell_type": "code",
     "collapsed": false,
     "input": [
      "uid_data = []\n",
      "for auth_comb in author_combinations:\n",
      "    pubmed_param = {'db': 'pubmed',\n",
      "                    'usehistory': 'y',\n",
      "                    'term': ' AND '.join(auth_comb)+'[author]'}\n",
      "    pubmed_encoded_param = urllib.urlencode(pubmed_param)\n",
      "    pubmed_url = 'http://eutils.ncbi.nlm.nih.gov/entrez/eutils/esearch.fcgi'\n",
      "    pubmed_url = pubmed_url + '?' + pubmed_encoded_param\n",
      "    pubmed_response = urllib2.urlopen(pubmed_url)\n",
      "    xml_response = pubmed_response.read()\n",
      "    pubmed_data = BeautifulSoup(xml_response)\n",
      "    pubmed_ids = [node.findAll(text=True) for node in pubmed_data.findAll('id')]\n",
      "    pubmed_ids = [int(pubmed_id) for pm_list in pubmed_ids for pubmed_id in pm_list]\n",
      "    pubmed_ids = [pmid for pmid in pubmed_ids]\n",
      "    print auth_comb, pubmed_ids\n",
      "    \n",
      "    uid_data.append([auth_comb, pubmed_ids])"
     ],
     "language": "python",
     "metadata": {},
     "outputs": [
      {
       "output_type": "stream",
       "stream": "stdout",
       "text": [
        "['Brendon J. Brewer'] []\n",
        "['Livia B. P\\xc3\\xa1rtay']"
       ]
      },
      {
       "output_type": "stream",
       "stream": "stdout",
       "text": [
        " [21399284, 20701382, 18767819, 18688518, 18601345, 18393551, 17963228, 17944496, 17661512, 17614529, 17567064, 17487997, 17347707, 17263573]\n",
        "['G\\xc3\\xa1bor Cs\\xc3\\xa1nyi']"
       ]
      },
      {
       "output_type": "stream",
       "stream": "stdout",
       "text": [
        " [23606947, 23214508, 23087362, 22997161, 22585059, 22465673, 22285482, 22089416, 21586323, 21126185, 21062086, 20964288, 20701382, 20610415, 20481899, 19628034, 19341253, 18674539, 18622059, 18431525]\n",
        "['Brendon J. Brewer', 'Livia B. P\\xc3\\xa1rtay']"
       ]
      },
      {
       "output_type": "stream",
       "stream": "stdout",
       "text": [
        " []\n",
        "['Brendon J. Brewer', 'G\\xc3\\xa1bor Cs\\xc3\\xa1nyi']"
       ]
      },
      {
       "output_type": "stream",
       "stream": "stdout",
       "text": [
        " []\n",
        "['Livia B. P\\xc3\\xa1rtay', 'G\\xc3\\xa1bor Cs\\xc3\\xa1nyi']"
       ]
      },
      {
       "output_type": "stream",
       "stream": "stdout",
       "text": [
        " [20701382]\n",
        "['Brendon J. Brewer', 'Livia B. P\\xc3\\xa1rtay', 'G\\xc3\\xa1bor Cs\\xc3\\xa1nyi']"
       ]
      },
      {
       "output_type": "stream",
       "stream": "stdout",
       "text": [
        " []\n"
       ]
      }
     ],
     "prompt_number": 15
    },
    {
     "cell_type": "code",
     "collapsed": false,
     "input": [
      "x = [len(t[0]) for t in uid_data if len(t[1]) > 0]\n",
      "y = [len(t[1]) for t in uid_data if len(t[1]) > 0]\n",
      "fig = plt.figure()\n",
      "grid(True)\n",
      "ax = fig.add_subplot(111)\n",
      "\n",
      "ax.set_xlabel('number of authors on paper = significance of match')\n",
      "ax.set_ylabel('number of papers found on PubMed')\n",
      "#ax.set_ylim(bottom=0)\n",
      "#ax.set_xlim([0,5])\n",
      "#ax.set_yticks([1,2,7,13,19])\n",
      "#ax.set_xticks([1,2,3,4,5])\n",
      "scatter(x,y)"
     ],
     "language": "python",
     "metadata": {},
     "outputs": [
      {
       "output_type": "pyout",
       "prompt_number": 16,
       "text": [
        "<matplotlib.collections.CircleCollection at 0x3cad810>"
       ]
      },
      {
       "output_type": "display_data",
       "png": "[encoded data removed]"
      }
     ],
     "prompt_number": 16
    },
    {
     "cell_type": "code",
     "collapsed": false,
     "input": [
      "abstracts = []\n",
      "for el in uid_data:\n",
      "    auth_comb = el[0]\n",
      "    uids = el[1]\n",
      "    if len(uids) > 0:\n",
      "        pubmed_param = {'db': 'pubmed',\n",
      "                        'usehistory': 'y',\n",
      "                        'id': ','.join([str(uid) for uid in uids]),\n",
      "                        'retmode': 'xml'}\n",
      "        pubmed_encoded_param = urllib.urlencode(pubmed_param)\n",
      "        pubmed_url = 'http://eutils.ncbi.nlm.nih.gov/entrez/eutils/efetch.fcgi'\n",
      "        pubmed_url = pubmed_url + '?' + pubmed_encoded_param\n",
      "        pubmed_response = urllib2.urlopen(pubmed_url)\n",
      "        xml_response = pubmed_response.read()\n",
      "        pubmed_data = BeautifulSoup(xml_response)\n",
      "        pubmed_abstracts = [node.findAll(text=True) for node in pubmed_data.findAll('abstracttext')]\n",
      "        for abstract in pubmed_abstracts:\n",
      "            abstracts.append(abstract[0])"
     ],
     "language": "python",
     "metadata": {},
     "outputs": [],
     "prompt_number": 17
    },
    {
     "cell_type": "code",
     "collapsed": false,
     "input": [
      "len(abstracts)"
     ],
     "language": "python",
     "metadata": {},
     "outputs": [
      {
       "output_type": "pyout",
       "prompt_number": 18,
       "text": [
        "44"
       ]
      }
     ],
     "prompt_number": 18
    },
    {
     "cell_type": "code",
     "collapsed": false,
     "input": [
      "import nltk\n",
      "# run this if you are missing the tagger used below\n",
      "# nltk.download('maxent_treebank_pos_tagger')"
     ],
     "language": "python",
     "metadata": {},
     "outputs": [],
     "prompt_number": 19
    },
    {
     "cell_type": "code",
     "collapsed": false,
     "input": [
      "words = [word for abstract in abstracts for word in nltk.word_tokenize(abstract)]"
     ],
     "language": "python",
     "metadata": {},
     "outputs": [],
     "prompt_number": 20
    },
    {
     "cell_type": "code",
     "collapsed": false,
     "input": [
      "tagged_words = nltk.pos_tag(words)"
     ],
     "language": "python",
     "metadata": {},
     "outputs": [],
     "prompt_number": 21
    },
    {
     "cell_type": "code",
     "collapsed": false,
     "input": [
      "nouns = [tw[0] for tw in tagged_words if 'NN' == tw[1]]"
     ],
     "language": "python",
     "metadata": {},
     "outputs": [],
     "prompt_number": 22
    },
    {
     "cell_type": "code",
     "collapsed": false,
     "input": [
      "noun_counts = list(set(((noun, nouns.count(noun)) for noun in nouns)))"
     ],
     "language": "python",
     "metadata": {},
     "outputs": [],
     "prompt_number": 23
    },
    {
     "cell_type": "code",
     "collapsed": false,
     "input": [
      "from operator import itemgetter\n",
      "noun_counts_sorted = [el for el in sorted(noun_counts, key=itemgetter(1))[-1:0:-1]]"
     ],
     "language": "python",
     "metadata": {},
     "outputs": [],
     "prompt_number": 24
    },
    {
     "cell_type": "code",
     "collapsed": false,
     "input": [
      "noun_counts_sorted[0:10]"
     ],
     "language": "python",
     "metadata": {},
     "outputs": [
      {
       "output_type": "pyout",
       "prompt_number": 25,
       "text": [
        "[(u'surface', 41),\n",
        " (u'water', 25),\n",
        " (u'layer', 18),\n",
        " (u'function', 18),\n",
        " (u'interface', 17),\n",
        " (u'mice', 16),\n",
        " (u'(', 15),\n",
        " (u'region', 14),\n",
        " (u'activation', 14),\n",
        " (u'hydrogen', 14)]"
       ]
      }
     ],
     "prompt_number": 25
    },
    {
     "cell_type": "markdown",
     "metadata": {},
     "source": [
      "The ten most frequently used nouns (as we detect them) seem useless for further recommendations ..."
     ]
    }
   ],
   "metadata": {}
  }
 ]
}