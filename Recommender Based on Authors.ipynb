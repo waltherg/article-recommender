{
 "metadata": {
  "name": "Recommender Based on Authors"
 },
 "nbformat": 3,
 "nbformat_minor": 0,
 "worksheets": [
  {
   "cells": [
    {
     "cell_type": "markdown",
     "metadata": {},
     "source": [
      "Find the git repository of this at [https://github.com/waltherg/article-recommender](https://github.com/waltherg/article-recommender).\n",
      "\n",
      "Fetch and fingerprint some article and look for articles on Google Scholar that are similar to this one.\n",
      "\n",
      "For simplicity, let's look for articles that were written by the same authors.\n",
      "\n",
      "Let's also assume that articles are more relevant for us if they were co-authored by a greater subset of authors of the original paper."
     ]
    },
    {
     "cell_type": "code",
     "collapsed": false,
     "input": [
      "import urllib2 as urllib\n",
      "from BeautifulSoup import BeautifulSoup"
     ],
     "language": "python",
     "metadata": {},
     "outputs": [],
     "prompt_number": 1
    },
    {
     "cell_type": "code",
     "collapsed": false,
     "input": [
      "response = urllib.urlopen('http://www.plosone.org/article/info%3Adoi%2F10.1371%2Fjournal.pone.0062593')\n",
      "html_response = response.read()\n",
      "data = BeautifulSoup(html_response)"
     ],
     "language": "python",
     "metadata": {},
     "outputs": [],
     "prompt_number": 2
    },
    {
     "cell_type": "code",
     "collapsed": false,
     "input": [
      "title = data.findAll('title')\n",
      "title"
     ],
     "language": "python",
     "metadata": {},
     "outputs": [
      {
       "output_type": "pyout",
       "prompt_number": 3,
       "text": [
        "[<title>PLOS ONE: Self-Affirmation Improves Problem-Solving under Stress</title>]"
       ]
      }
     ],
     "prompt_number": 3
    },
    {
     "cell_type": "code",
     "collapsed": false,
     "input": [
      "authors = data.findAll('meta', {'name':'citation_author'})"
     ],
     "language": "python",
     "metadata": {},
     "outputs": [],
     "prompt_number": 4
    },
    {
     "cell_type": "code",
     "collapsed": false,
     "input": [
      "authors"
     ],
     "language": "python",
     "metadata": {},
     "outputs": [
      {
       "output_type": "pyout",
       "prompt_number": 5,
       "text": [
        "[<meta name=\"citation_author\" content=\"J. David Creswell\" />,\n",
        " <meta name=\"citation_author\" content=\"Janine M. Dutcher\" />,\n",
        " <meta name=\"citation_author\" content=\"William M. P. Klein\" />,\n",
        " <meta name=\"citation_author\" content=\"Peter R. Harris\" />,\n",
        " <meta name=\"citation_author\" content=\"John M. Levine\" />]"
       ]
      }
     ],
     "prompt_number": 5
    },
    {
     "cell_type": "code",
     "collapsed": false,
     "input": [
      "author_names = [a['content'] for a in authors]"
     ],
     "language": "python",
     "metadata": {},
     "outputs": [],
     "prompt_number": 6
    },
    {
     "cell_type": "code",
     "collapsed": false,
     "input": [
      "author_names"
     ],
     "language": "python",
     "metadata": {},
     "outputs": [
      {
       "output_type": "pyout",
       "prompt_number": 7,
       "text": [
        "[u'J. David Creswell',\n",
        " u'Janine M. Dutcher',\n",
        " u'William M. P. Klein',\n",
        " u'Peter R. Harris',\n",
        " u'John M. Levine']"
       ]
      }
     ],
     "prompt_number": 7
    },
    {
     "cell_type": "markdown",
     "metadata": {},
     "source": [
      "Fetch **scholar.py**\n",
      "\n",
      "    wget http://www.icir.org/christian/downloads/scholar.py\n",
      "\n",
      "**scholar.py** provides classes and methods for querying Google Scholar and parsing the resultant GS website."
     ]
    },
    {
     "cell_type": "code",
     "collapsed": false,
     "input": [
      "import scholar as gs"
     ],
     "language": "python",
     "metadata": {},
     "outputs": [],
     "prompt_number": 8
    },
    {
     "cell_type": "markdown",
     "metadata": {},
     "source": [
      "Let's look for papers that the first and second author appear on together:"
     ]
    },
    {
     "cell_type": "code",
     "collapsed": false,
     "input": [
      "titles = gs.titles(author=author_names[0]+' AND '+author_names[1])"
     ],
     "language": "python",
     "metadata": {},
     "outputs": [],
     "prompt_number": 9
    },
    {
     "cell_type": "code",
     "collapsed": false,
     "input": [
      "titles"
     ],
     "language": "python",
     "metadata": {},
     "outputs": [
      {
       "output_type": "pyout",
       "prompt_number": 10,
       "text": [
        "[u'Self-Affirmation Improves Problem-Solving under Stress']"
       ]
      }
     ],
     "prompt_number": 10
    },
    {
     "cell_type": "markdown",
     "metadata": {},
     "source": [
      "It appears these two authors have co-authored just this one article we are looking at presently.\n",
      "\n",
      "Let's see what address Google Scholar returns for this article."
     ]
    },
    {
     "cell_type": "code",
     "collapsed": false,
     "input": [
      "url = gs.url(title=titles[0], author=author_names[0]+' AND '+author_names[1])\n",
      "url"
     ],
     "language": "python",
     "metadata": {},
     "outputs": [
      {
       "output_type": "pyout",
       "prompt_number": 11,
       "text": [
        "(u'http://dx.plos.org/10.1371/journal.pone.0062593', u'2013')"
       ]
      }
     ],
     "prompt_number": 11
    },
    {
     "cell_type": "markdown",
     "metadata": {},
     "source": [
      "\n",
      "Let's form all combinations of authors and perform a Google Scholar search for each combination."
     ]
    },
    {
     "cell_type": "code",
     "collapsed": false,
     "input": [
      "import itertools"
     ],
     "language": "python",
     "metadata": {},
     "outputs": [],
     "prompt_number": 12
    },
    {
     "cell_type": "code",
     "collapsed": false,
     "input": [
      "author_combinations = [list(itertools.combinations(author_names, number_authors)) for number_authors in range(len(author_names)+1)]"
     ],
     "language": "python",
     "metadata": {},
     "outputs": [],
     "prompt_number": 13
    },
    {
     "cell_type": "markdown",
     "metadata": {},
     "source": [
      "This returns a list of lists, so let's tidy this up."
     ]
    },
    {
     "cell_type": "code",
     "collapsed": false,
     "input": [
      "author_combinations = [list(auth_comb) for auth_list in author_combinations for auth_comb in auth_list if len(auth_comb) > 0]"
     ],
     "language": "python",
     "metadata": {},
     "outputs": [],
     "prompt_number": 14
    },
    {
     "cell_type": "code",
     "collapsed": false,
     "input": [
      "author_combinations"
     ],
     "language": "python",
     "metadata": {},
     "outputs": [
      {
       "output_type": "pyout",
       "prompt_number": 15,
       "text": [
        "[[u'J. David Creswell'],\n",
        " [u'Janine M. Dutcher'],\n",
        " [u'William M. P. Klein'],\n",
        " [u'Peter R. Harris'],\n",
        " [u'John M. Levine'],\n",
        " [u'J. David Creswell', u'Janine M. Dutcher'],\n",
        " [u'J. David Creswell', u'William M. P. Klein'],\n",
        " [u'J. David Creswell', u'Peter R. Harris'],\n",
        " [u'J. David Creswell', u'John M. Levine'],\n",
        " [u'Janine M. Dutcher', u'William M. P. Klein'],\n",
        " [u'Janine M. Dutcher', u'Peter R. Harris'],\n",
        " [u'Janine M. Dutcher', u'John M. Levine'],\n",
        " [u'William M. P. Klein', u'Peter R. Harris'],\n",
        " [u'William M. P. Klein', u'John M. Levine'],\n",
        " [u'Peter R. Harris', u'John M. Levine'],\n",
        " [u'J. David Creswell', u'Janine M. Dutcher', u'William M. P. Klein'],\n",
        " [u'J. David Creswell', u'Janine M. Dutcher', u'Peter R. Harris'],\n",
        " [u'J. David Creswell', u'Janine M. Dutcher', u'John M. Levine'],\n",
        " [u'J. David Creswell', u'William M. P. Klein', u'Peter R. Harris'],\n",
        " [u'J. David Creswell', u'William M. P. Klein', u'John M. Levine'],\n",
        " [u'J. David Creswell', u'Peter R. Harris', u'John M. Levine'],\n",
        " [u'Janine M. Dutcher', u'William M. P. Klein', u'Peter R. Harris'],\n",
        " [u'Janine M. Dutcher', u'William M. P. Klein', u'John M. Levine'],\n",
        " [u'Janine M. Dutcher', u'Peter R. Harris', u'John M. Levine'],\n",
        " [u'William M. P. Klein', u'Peter R. Harris', u'John M. Levine'],\n",
        " [u'J. David Creswell',\n",
        "  u'Janine M. Dutcher',\n",
        "  u'William M. P. Klein',\n",
        "  u'Peter R. Harris'],\n",
        " [u'J. David Creswell',\n",
        "  u'Janine M. Dutcher',\n",
        "  u'William M. P. Klein',\n",
        "  u'John M. Levine'],\n",
        " [u'J. David Creswell',\n",
        "  u'Janine M. Dutcher',\n",
        "  u'Peter R. Harris',\n",
        "  u'John M. Levine'],\n",
        " [u'J. David Creswell',\n",
        "  u'William M. P. Klein',\n",
        "  u'Peter R. Harris',\n",
        "  u'John M. Levine'],\n",
        " [u'Janine M. Dutcher',\n",
        "  u'William M. P. Klein',\n",
        "  u'Peter R. Harris',\n",
        "  u'John M. Levine'],\n",
        " [u'J. David Creswell',\n",
        "  u'Janine M. Dutcher',\n",
        "  u'William M. P. Klein',\n",
        "  u'Peter R. Harris',\n",
        "  u'John M. Levine']]"
       ]
      }
     ],
     "prompt_number": 15
    },
    {
     "cell_type": "markdown",
     "metadata": {},
     "source": [
      "This is how we can join author names with the keyword AND to form the corresponding Google Scholar search queries."
     ]
    },
    {
     "cell_type": "code",
     "collapsed": false,
     "input": [
      "' AND '.join(author_combinations[-1])"
     ],
     "language": "python",
     "metadata": {},
     "outputs": [
      {
       "output_type": "pyout",
       "prompt_number": 16,
       "text": [
        "u'J. David Creswell AND Janine M. Dutcher AND William M. P. Klein AND Peter R. Harris AND John M. Levine'"
       ]
      }
     ],
     "prompt_number": 16
    },
    {
     "cell_type": "markdown",
     "metadata": {},
     "source": [
      "Query Google Scholar for all combinations of authors and save the resultant list of titles together with the number of authors of the corresponding combination:\n",
      "\n",
      "(number of authors, [titles found on Google Scholar])\n",
      "\n",
      "**This will take a short moment to evaluate.**"
     ]
    },
    {
     "cell_type": "code",
     "collapsed": false,
     "input": [
      "titles = [(len(auth_comb), gs.titles(' AND '.join(auth_comb))) for auth_comb in author_combinations]"
     ],
     "language": "python",
     "metadata": {},
     "outputs": [],
     "prompt_number": 17
    },
    {
     "cell_type": "code",
     "collapsed": false,
     "input": [
      "titles[0]"
     ],
     "language": "python",
     "metadata": {},
     "outputs": [
      {
       "output_type": "pyout",
       "prompt_number": 18,
       "text": [
        "(1,\n",
        " [u'Mindfulness: Theoretical foundations and evidence for its salutary effects',\n",
        "  u'Mixed methods research designs in counseling psychology',\n",
        "  u'Neural correlates of dispositional mindfulness during affect labeling',\n",
        "  u'Affirmation of personal values buffers neuroendocrine and psychological stress responses',\n",
        "  u'Does self-affirmation, cognitive processing, or discovery of meaning explain cancer-related health benefits of expressive writing?',\n",
        "  u'Mindfulness meditation training effects on CD4+ T lymphocytes in HIV-1 infected adults: A small randomized controlled trial',\n",
        "  u'To assess, to control, to exclude: effects of biobehavioral factors on circulating inflammatory markers',\n",
        "  u'Dispositional mindfulness and depressive symptomatology: Correlations with limbic and self-referential neural activity during rest',\n",
        "  u'Addressing fundamental questions about mindfulness',\n",
        "  u'Impact of mindfulness-based stress reduction training on intrinsic brain connectivity'])"
       ]
      }
     ],
     "prompt_number": 18
    },
    {
     "cell_type": "code",
     "collapsed": false,
     "input": [
      "x = [t[0] for t in titles]\n",
      "y = [len(t[1]) for t in titles]\n",
      "fig = plt.figure()\n",
      "\n",
      "ax = fig.add_subplot(111)\n",
      "\n",
      "ax.set_xlabel('number of authors on paper = significance of match(??)')\n",
      "ax.set_ylabel('number of papers found on Google Scholar')\n",
      "scatter(x,y)"
     ],
     "language": "python",
     "metadata": {},
     "outputs": [
      {
       "output_type": "pyout",
       "prompt_number": 19,
       "text": [
        "<matplotlib.collections.CircleCollection at 0x3d41f10>"
       ]
      },
      {
       "output_type": "display_data",
       "png": "[encoded data removed]"
      }
     ],
     "prompt_number": 19
    },
    {
     "cell_type": "markdown",
     "metadata": {},
     "source": [
      "It looks as if there are 10 articles that were written jointly by four authors of the original paper so we should return these with some increased priority to the user ... "
     ]
    }
   ],
   "metadata": {}
  }
 ]
}