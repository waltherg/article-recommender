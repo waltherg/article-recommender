{
 "metadata": {
  "name": "Europe PMC Test"
 },
 "nbformat": 3,
 "nbformat_minor": 0,
 "worksheets": [
  {
   "cells": [
    {
     "cell_type": "heading",
     "level": 1,
     "metadata": {},
     "source": [
      "Testing Europe PMC API"
     ]
    },
    {
     "cell_type": "markdown",
     "metadata": {},
     "source": [
      "Find the git repository of this at [https://github.com/waltherg/article-recommender](https://github.com/waltherg/article-recommender).\n",
      "\n",
      "Fetch and fingerprint some article and look for articles on PubMed that are similar to this one.\n",
      "\n",
      "For simplicity, let's look for articles that were written by the same authors.\n",
      "\n",
      "Let's also assume that articles are more relevant for us if they were co-authored by a greater subset of authors of the original paper."
     ]
    },
    {
     "cell_type": "code",
     "collapsed": false,
     "input": [
      "import urllib2\n",
      "import urllib\n",
      "from BeautifulSoup import BeautifulSoup"
     ],
     "language": "python",
     "metadata": {},
     "outputs": [],
     "prompt_number": 1
    },
    {
     "cell_type": "code",
     "collapsed": false,
     "input": [
      "article_url = 'http://www.pnas.org/content/101/7/1822'\n",
      "response = urllib2.urlopen(article_url)\n",
      "html_response = response.read()\n",
      "data = BeautifulSoup(html_response)"
     ],
     "language": "python",
     "metadata": {},
     "outputs": [],
     "prompt_number": 2
    },
    {
     "cell_type": "code",
     "collapsed": false,
     "input": [
      "title = data.findAll('title')\n",
      "title"
     ],
     "language": "python",
     "metadata": {},
     "outputs": [
      {
       "output_type": "pyout",
       "prompt_number": 3,
       "text": [
        "[<title>Detection of multistability, bifurcations, and hysteresis in a large class of biological positive-feedback systems </title>]"
       ]
      }
     ],
     "prompt_number": 3
    },
    {
     "cell_type": "code",
     "collapsed": false,
     "input": [
      "authors = data.findAll('meta', {'name':'citation_author'})"
     ],
     "language": "python",
     "metadata": {},
     "outputs": [],
     "prompt_number": 4
    },
    {
     "cell_type": "code",
     "collapsed": false,
     "input": [
      "authors"
     ],
     "language": "python",
     "metadata": {},
     "outputs": [
      {
       "output_type": "pyout",
       "prompt_number": 5,
       "text": [
        "[<meta name=\"citation_author\" content=\"David Angeli\" />,\n",
        " <meta name=\"citation_author\" content=\"James E. Ferrell\" />,\n",
        " <meta name=\"citation_author\" content=\"Eduardo D. Sontag\" />]"
       ]
      }
     ],
     "prompt_number": 5
    },
    {
     "cell_type": "code",
     "collapsed": false,
     "input": [
      "author_names = [a['content'].encode('utf8') for a in authors]"
     ],
     "language": "python",
     "metadata": {},
     "outputs": [],
     "prompt_number": 6
    },
    {
     "cell_type": "code",
     "collapsed": false,
     "input": [
      "author_names"
     ],
     "language": "python",
     "metadata": {},
     "outputs": [
      {
       "output_type": "pyout",
       "prompt_number": 7,
       "text": [
        "['David Angeli', 'James E. Ferrell', 'Eduardo D. Sontag']"
       ]
      }
     ],
     "prompt_number": 7
    },
    {
     "cell_type": "markdown",
     "metadata": {},
     "source": [
      "Look for papers on PubMed that the first author appears on."
     ]
    },
    {
     "cell_type": "code",
     "collapsed": false,
     "input": [
      "pubmed_param = {'db': 'pubmed',\n",
      "                'usehistory': 'y',\n",
      "              'term': author_names[0]+' AND '+author_names[1]+'[author]'}\n",
      "pubmed_encoded_param = urllib.urlencode(pubmed_param)\n",
      "pubmed_url = 'http://eutils.ncbi.nlm.nih.gov/entrez/eutils/esearch.fcgi'\n",
      "pubmed_url = pubmed_url + '?' + pubmed_encoded_param\n",
      "pubmed_response = urllib2.urlopen(pubmed_url)\n",
      "xml_response = pubmed_response.read()\n",
      "pubmed_data = BeautifulSoup(xml_response)"
     ],
     "language": "python",
     "metadata": {},
     "outputs": [],
     "prompt_number": 8
    },
    {
     "cell_type": "code",
     "collapsed": false,
     "input": [
      "pubmed_ids = [node.findAll(text=True) for node in pubmed_data.findAll('id')]\n",
      "pubmed_ids = [int(pubmed_id) for pm_list in pubmed_ids for pubmed_id in pm_list]\n",
      "print pubmed_ids"
     ],
     "language": "python",
     "metadata": {},
     "outputs": [
      {
       "output_type": "stream",
       "stream": "stdout",
       "text": [
        "[14766974]\n"
       ]
      }
     ],
     "prompt_number": 9
    },
    {
     "cell_type": "markdown",
     "metadata": {},
     "source": [
      "\n",
      "Let's form all combinations of authors and perform a PubMed search for each combination."
     ]
    },
    {
     "cell_type": "code",
     "collapsed": false,
     "input": [
      "import itertools"
     ],
     "language": "python",
     "metadata": {},
     "outputs": [],
     "prompt_number": 10
    },
    {
     "cell_type": "code",
     "collapsed": false,
     "input": [
      "author_combinations = [list(itertools.combinations(author_names, number_authors)) for number_authors in range(len(author_names)+1)]"
     ],
     "language": "python",
     "metadata": {},
     "outputs": [],
     "prompt_number": 11
    },
    {
     "cell_type": "markdown",
     "metadata": {},
     "source": [
      "This returns a list of lists, so let's tidy this up."
     ]
    },
    {
     "cell_type": "code",
     "collapsed": false,
     "input": [
      "author_combinations = [list(auth_comb) for auth_list in author_combinations for auth_comb in auth_list if len(auth_comb) > 0]"
     ],
     "language": "python",
     "metadata": {},
     "outputs": [],
     "prompt_number": 12
    },
    {
     "cell_type": "code",
     "collapsed": false,
     "input": [
      "author_combinations"
     ],
     "language": "python",
     "metadata": {},
     "outputs": [
      {
       "output_type": "pyout",
       "prompt_number": 13,
       "text": [
        "[['David Angeli'],\n",
        " ['James E. Ferrell'],\n",
        " ['Eduardo D. Sontag'],\n",
        " ['David Angeli', 'James E. Ferrell'],\n",
        " ['David Angeli', 'Eduardo D. Sontag'],\n",
        " ['James E. Ferrell', 'Eduardo D. Sontag'],\n",
        " ['David Angeli', 'James E. Ferrell', 'Eduardo D. Sontag']]"
       ]
      }
     ],
     "prompt_number": 13
    },
    {
     "cell_type": "markdown",
     "metadata": {},
     "source": [
      "This is how we can join author names with the keyword AND to form the corresponding Google Scholar search queries."
     ]
    },
    {
     "cell_type": "code",
     "collapsed": false,
     "input": [
      "' AND '.join(author_combinations[-1])"
     ],
     "language": "python",
     "metadata": {},
     "outputs": [
      {
       "output_type": "pyout",
       "prompt_number": 14,
       "text": [
        "'David Angeli AND James E. Ferrell AND Eduardo D. Sontag'"
       ]
      }
     ],
     "prompt_number": 14
    },
    {
     "cell_type": "markdown",
     "metadata": {},
     "source": [
      "Query PubMed for all combinations of authors and save the resultant list of titles together with the number of authors of the corresponding combination:\n",
      "\n",
      "([authors], [UIDs found on PubMed])"
     ]
    },
    {
     "cell_type": "code",
     "collapsed": false,
     "input": [
      "uid_data = []\n",
      "for auth_comb in author_combinations:\n",
      "    pubmed_param = {'db': 'pubmed',\n",
      "                    'usehistory': 'y',\n",
      "                    'term': ' AND '.join(auth_comb)+'[author]'}\n",
      "    pubmed_encoded_param = urllib.urlencode(pubmed_param)\n",
      "    pubmed_url = 'http://eutils.ncbi.nlm.nih.gov/entrez/eutils/esearch.fcgi'\n",
      "    pubmed_url = pubmed_url + '?' + pubmed_encoded_param\n",
      "    pubmed_response = urllib2.urlopen(pubmed_url)\n",
      "    xml_response = pubmed_response.read()\n",
      "    pubmed_data = BeautifulSoup(xml_response)\n",
      "    pubmed_ids = [node.findAll(text=True) for node in pubmed_data.findAll('id')]\n",
      "    pubmed_ids = [int(pubmed_id) for pm_list in pubmed_ids for pubmed_id in pm_list]\n",
      "    pubmed_ids = [pmid for pmid in pubmed_ids]\n",
      "    print auth_comb, pubmed_ids\n",
      "    \n",
      "    uid_data.append([auth_comb, pubmed_ids])"
     ],
     "language": "python",
     "metadata": {},
     "outputs": [
      {
       "output_type": "stream",
       "stream": "stdout",
       "text": [
        "['David Angeli'] [19949950, 19405117, 19336287, 17869313, 20369910, 14766974]\n",
        "['James E. Ferrell']"
       ]
      },
      {
       "output_type": "stream",
       "stream": "stdout",
       "text": [
        " [23624406, 23361981, 22726437, 22677291, 22324380, 22078888, 21855788, 21414480, 21292159, 20660152, 20028868, 20005833, 19901979, 19878681, 19589184, 19390045, 19222866, 18633407, 18599789, 18480403]\n",
        "['Eduardo D. Sontag']"
       ]
      },
      {
       "output_type": "stream",
       "stream": "stdout",
       "text": [
        " [23729972, 23528097, 23319630, 23133355, 22773816, 21990429, 20711508, 20418962, 19405117, 19280266, 19119410, 19003437, 18987858, 18793131, 18704155, 18277378, 18193928, 18008071, 17869313, 17238280]\n",
        "['David Angeli', 'James E. Ferrell']"
       ]
      },
      {
       "output_type": "stream",
       "stream": "stdout",
       "text": [
        " [14766974]\n",
        "['David Angeli', 'Eduardo D. Sontag']"
       ]
      },
      {
       "output_type": "stream",
       "stream": "stdout",
       "text": [
        " [19405117, 17869313, 20369910, 14766974]\n",
        "['James E. Ferrell', 'Eduardo D. Sontag']"
       ]
      },
      {
       "output_type": "stream",
       "stream": "stdout",
       "text": [
        " [14766974, 12629549]\n",
        "['David Angeli', 'James E. Ferrell', 'Eduardo D. Sontag']"
       ]
      },
      {
       "output_type": "stream",
       "stream": "stdout",
       "text": [
        " [14766974]\n"
       ]
      }
     ],
     "prompt_number": 15
    },
    {
     "cell_type": "code",
     "collapsed": false,
     "input": [
      "url = 'http://www.ebi.ac.uk/europepmc/webservices/rest/MED/271968/textMinedTerms'\n",
      "response = urllib2.urlopen(url)\n",
      "xml_response = response.read()\n",
      "\n",
      "print xml_response"
     ],
     "language": "python",
     "metadata": {},
     "outputs": [
      {
       "output_type": "stream",
       "stream": "stdout",
       "text": [
        "<?xml version=\"1.0\" encoding=\"UTF-8\" standalone=\"yes\"?><responseWrapper><version>3.0.1</version><hitCount>37</hitCount><request><id>271968</id><source>MED</source><page>1</page><semanticType></semanticType></request><semanticTypeCountList><semanticType><name>chemical</name><count>27</count></semanticType><semanticType><name>gene_protein</name><count>6</count></semanticType><semanticType><name>go_term</name><count>2</count></semanticType><semanticType><name>organism</name><count>2</count></semanticType></semanticTypeCountList><semanticTypeList><semanticType><name>chemical</name><total>27</total><tmSummary><term>triphosphates</term><count>13</count><altNameList><altName>triphosphate</altName><altName>Triphosphate</altName></altNameList><dbName>chebi</dbName><dbIdList><dbId>15266</dbId><dbId>18036</dbId></dbIdList></tmSummary><tmSummary><term>double-stranded DNA</term><count>1</count><altNameList/><dbName>chebi</dbName><dbIdList><dbId>4705</dbId></dbIdList></tmSummary><tmSummary><term>hydroxyl</term><count>3</count><altNameList/><dbName>chebi</dbName><dbIdList><dbId>29191</dbId></dbIdList></tmSummary><tmSummary><term>dTTP</term><count>7</count><altNameList/><dbName>chebi</dbName><dbIdList><dbId>18077</dbId></dbIdList></tmSummary><tmSummary><term>deoxyribonucleoside</term><count>1</count><altNameList/><dbName>chebi</dbName><dbIdList><dbId>23636</dbId></dbIdList></tmSummary><tmSummary><term>acrylamide</term><count>6</count><altNameList/><dbName>chebi</dbName><dbIdList><dbId>28619</dbId></dbIdList></tmSummary><tmSummary><term> dTs</term><count>1</count><altNameList/><dbName>chebi</dbName><dbIdList><dbId>50300</dbId></dbIdList></tmSummary><tmSummary><term>nucleotides</term><count>6</count><altNameList/><dbName>chebi</dbName><dbIdList><dbId>36976</dbId></dbIdList></tmSummary><tmSummary><term>Arabinose</term><count>2</count><altNameList><altName>arabinose</altName></altNameList><dbName>chebi</dbName><dbIdList><dbId>22599</dbId></dbIdList></tmSummary><tmSummary><term>ribose</term><count>1</count><altNameList/><dbName>chebi</dbName><dbIdList><dbId>33942</dbId></dbIdList></tmSummary><tmSummary><term>DEAE</term><count>3</count><altNameList/><dbName>chebi</dbName><dbIdList><dbId>52153</dbId></dbIdList></tmSummary><tmSummary><term>triethylamine</term><count>2</count><altNameList/><dbName>chebi</dbName><dbIdList><dbId>35026</dbId></dbIdList></tmSummary><tmSummary><term>carbonate</term><count>2</count><altNameList/><dbName>chebi</dbName><dbIdList><dbId>41609</dbId></dbIdList></tmSummary><tmSummary><term>sodium</term><count>1</count><altNameList/><dbName>chebi</dbName><dbIdList><dbId>26708</dbId></dbIdList></tmSummary><tmSummary><term>methoxide</term><count>1</count><altNameList/><dbName>chebi</dbName><dbIdList><dbId>52090</dbId></dbIdList></tmSummary><tmSummary><term>NH3</term><count>1</count><altNameList/><dbName>chebi</dbName><dbIdList><dbId>16134</dbId></dbIdList></tmSummary><tmSummary><term>OFO</term><count>1</count><altNameList/><dbName>chebi</dbName><dbIdList><dbId>47861</dbId></dbIdList></tmSummary><tmSummary><term>dATP</term><count>5</count><altNameList/><dbName>chebi</dbName><dbIdList><dbId>16284</dbId></dbIdList></tmSummary><tmSummary><term>dGTP</term><count>5</count><altNameList/><dbName>chebi</dbName><dbIdList><dbId>16497</dbId></dbIdList></tmSummary><tmSummary><term>dCTP</term><count>5</count><altNameList/><dbName>chebi</dbName><dbIdList><dbId>16311</dbId></dbIdList></tmSummary><tmSummary><term>mercaptoethanol</term><count>1</count><altNameList/><dbName>chebi</dbName><dbIdList><dbId>41218</dbId></dbIdList></tmSummary><tmSummary><term>Tris</term><count>1</count><altNameList/><dbName>chebi</dbName><dbIdList><dbId>9754</dbId></dbIdList></tmSummary><tmSummary><term>ribonucleotide</term><count>2</count><altNameList/><dbName>chebi</dbName><dbIdList><dbId>26561</dbId></dbIdList></tmSummary><tmSummary><term>manganese</term><count>1</count><altNameList/><dbName>chebi</dbName><dbIdList><dbId>18291</dbId><dbId>35154</dbId></dbIdList></tmSummary><tmSummary><term>ribonucleoside triphosphate</term><count>1</count><altNameList/><dbName>chebi</dbName><dbIdList><dbId>17972</dbId></dbIdList></tmSummary></semanticType></semanticTypeList></responseWrapper>\n"
       ]
      }
     ],
     "prompt_number": 29
    },
    {
     "cell_type": "markdown",
     "metadata": {},
     "source": [
      "Note that the PubMed UID of the original paper is not filtered out and likely listed above. Keeping the original paper may be useful in weighting keywords below ..."
     ]
    },
    {
     "cell_type": "code",
     "collapsed": false,
     "input": [
      "x = [len(t[0]) for t in uid_data if len(t[1]) > 0]\n",
      "y = [len(t[1]) for t in uid_data if len(t[1]) > 0]\n",
      "fig = plt.figure()\n",
      "grid(True)\n",
      "ax = fig.add_subplot(111)\n",
      "\n",
      "ax.set_xlabel('number of authors on paper = significance of match')\n",
      "ax.set_ylabel('number of papers found on PubMed')\n",
      "#ax.set_ylim(bottom=0)\n",
      "#ax.set_xlim([0,5])\n",
      "#ax.set_yticks([1,2,7,13,19])\n",
      "#ax.set_xticks([1,2,3,4,5])\n",
      "scatter(x,y)"
     ],
     "language": "python",
     "metadata": {},
     "outputs": [
      {
       "output_type": "pyout",
       "prompt_number": 16,
       "text": [
        "<matplotlib.collections.CircleCollection at 0x4084350>"
       ]
      },
      {
       "output_type": "display_data",
       "png": "[encoded data removed]"
      }
     ],
     "prompt_number": 16
    },
    {
     "cell_type": "code",
     "collapsed": false,
     "input": [
      "abstracts = []\n",
      "for el in uid_data:\n",
      "    auth_comb = el[0]\n",
      "    uids = el[1]\n",
      "    if len(uids) > 0:\n",
      "        pubmed_param = {'db': 'pubmed',\n",
      "                        'usehistory': 'y',\n",
      "                        'id': ','.join([str(uid) for uid in uids]),\n",
      "                        'retmode': 'xml'}\n",
      "        pubmed_encoded_param = urllib.urlencode(pubmed_param)\n",
      "        pubmed_url = 'http://eutils.ncbi.nlm.nih.gov/entrez/eutils/efetch.fcgi'\n",
      "        pubmed_url = pubmed_url + '?' + pubmed_encoded_param\n",
      "        pubmed_response = urllib2.urlopen(pubmed_url)\n",
      "        xml_response = pubmed_response.read()\n",
      "        pubmed_data = BeautifulSoup(xml_response)\n",
      "        pubmed_abstracts = [node.findAll(text=True) for node in pubmed_data.findAll('abstracttext')]\n",
      "        for abstract in pubmed_abstracts:\n",
      "            abstracts.append((auth_comb, abstract[0]))"
     ],
     "language": "python",
     "metadata": {},
     "outputs": [],
     "prompt_number": 17
    },
    {
     "cell_type": "code",
     "collapsed": false,
     "input": [
      "len(abstracts)"
     ],
     "language": "python",
     "metadata": {},
     "outputs": [
      {
       "output_type": "pyout",
       "prompt_number": 18,
       "text": [
        "49"
       ]
      }
     ],
     "prompt_number": 18
    },
    {
     "cell_type": "code",
     "collapsed": false,
     "input": [
      "abstracts[0]"
     ],
     "language": "python",
     "metadata": {},
     "outputs": [
      {
       "output_type": "pyout",
       "prompt_number": 19,
       "text": [
        "(['David Angeli'],\n",
        " u'This paper derives new results for certain classes of chemical reaction networks, linking structural to dynamical properties. In particular, it investigates their monotonicity and convergence under the assumption that the rates of the reactions are monotone functions of the concentrations of their reactants. This is satisfied for, yet not restricted to, the most common choices of the reaction kinetics such as mass action, Michaelis-Menten and Hill kinetics. The key idea is to find an alternative representation under which the resulting system is monotone. As a simple example, the paper shows that a phosphorylation/dephosphorylation process, which is involved in many signaling cascades, has a global stability property. We also provide a global stability result for a more complicated example that describes a regulatory pathway of a prevalent signal transduction module, the MAPK cascade.')"
       ]
      }
     ],
     "prompt_number": 19
    },
    {
     "cell_type": "code",
     "collapsed": false,
     "input": [
      "abstracts[1]"
     ],
     "language": "python",
     "metadata": {},
     "outputs": [
      {
       "output_type": "pyout",
       "prompt_number": 20,
       "text": [
        "(['David Angeli'],\n",
        " u'Certain mass-action kinetics models of biochemical reaction networks, although described by nonlinear differential equations, may be partially viewed as state-dependent linear time-varying systems, which in turn may be modeled by convex compact valued positive linear differential inclusions. A result is provided on asymptotic stability of such inclusions, and applied to a ubiquitous biochemical reaction network with inflows and outflows, known as the futile cycle. We also provide a characterization of exponential stability of general homogeneous switched systems which is not only of interest in itself, but also plays a role in the analysis of the futile cycle.')"
       ]
      }
     ],
     "prompt_number": 20
    },
    {
     "cell_type": "code",
     "collapsed": false,
     "input": [
      "from topia.termextract import extract"
     ],
     "language": "python",
     "metadata": {},
     "outputs": [],
     "prompt_number": 21
    },
    {
     "cell_type": "code",
     "collapsed": false,
     "input": [
      "extractor = extract.TermExtractor()"
     ],
     "language": "python",
     "metadata": {},
     "outputs": [],
     "prompt_number": 22
    },
    {
     "cell_type": "code",
     "collapsed": false,
     "input": [
      "from operator import itemgetter"
     ],
     "language": "python",
     "metadata": {},
     "outputs": [],
     "prompt_number": 23
    },
    {
     "cell_type": "code",
     "collapsed": false,
     "input": [
      "keywords_weighted = {}\n",
      "for abstract in abstracts:\n",
      "    \n",
      "    auth_comb = abstract[0]\n",
      "    \n",
      "    keywords = sorted(extractor(abstract[1]), key=itemgetter(2), reverse=True)\n",
      "    \n",
      "    keywords_filtered = []\n",
      "    for keyword in keywords:\n",
      "        include = True\n",
      "        for el in [')', '(', 'i.e', 'e.g', '.', ',','/','\\\\','*',';','&']:\n",
      "            if el in keyword[0]:\n",
      "                include = False\n",
      "        if include:\n",
      "            keywords_filtered.append(keyword)\n",
      "            \n",
      "    for keyword in keywords_filtered:\n",
      "        if keyword[0] not in keywords_weighted.keys():\n",
      "            keywords_weighted[keyword[0]] = keyword[2]+len(auth_comb)\n",
      "        else:\n",
      "            keywords_weighted[keyword[0]] =keywords_weighted[keyword[0]]+keyword[2]+len(auth_comb)\n",
      "            "
     ],
     "language": "python",
     "metadata": {},
     "outputs": [],
     "prompt_number": 24
    },
    {
     "cell_type": "code",
     "collapsed": false,
     "input": [
      "[key for key in keywords_weighted.keys() if keywords_weighted[key] > 20]"
     ],
     "language": "python",
     "metadata": {},
     "outputs": [
      {
       "output_type": "pyout",
       "prompt_number": 25,
       "text": [
        "[u'signal transduction networks',\n",
        " u'five-variable mitogen-activated protein kinase cascade',\n",
        " u'feedback',\n",
        " u'bistable systems',\n",
        " u'system',\n",
        " u'feedback systems',\n",
        " u'reaction networks']"
       ]
      }
     ],
     "prompt_number": 25
    },
    {
     "cell_type": "code",
     "collapsed": false,
     "input": [
      "[key for key in keywords_weighted.keys() if keywords_weighted[key] > 10 and keywords_weighted[key] <= 20]"
     ],
     "language": "python",
     "metadata": {},
     "outputs": [
      {
       "output_type": "pyout",
       "prompt_number": 26,
       "text": [
        "[u'method',\n",
        " u'feedback-blocked system',\n",
        " u'feedback loop',\n",
        " u'stability behavior',\n",
        " u'Certain mass-action kinetics models',\n",
        " u'oscillatory responses',\n",
        " u'cell',\n",
        " u'bifurcation diagrams',\n",
        " u'stability properties',\n",
        " u'feedback loops',\n",
        " u'cell cycle',\n",
        " u'feedback strengths']"
       ]
      }
     ],
     "prompt_number": 26
    },
    {
     "cell_type": "code",
     "collapsed": false,
     "input": [
      "[key for key in keywords_weighted.keys() if keywords_weighted[key] > 5 and keywords_weighted[key] <= 10]"
     ],
     "language": "python",
     "metadata": {},
     "outputs": [
      {
       "output_type": "pyout",
       "prompt_number": 27,
       "text": [
        "[u'mitotic events',\n",
        " u'small-gain theorem',\n",
        " u'clock-like oscillations',\n",
        " u'20- h cell cycle period',\n",
        " u'oscillator',\n",
        " u'Cdc 2-cyclin B functions',\n",
        " u'DNA replication',\n",
        " u'checkable conditions',\n",
        " u'species',\n",
        " u'feedback oscillator',\n",
        " u'parameter',\n",
        " u'response',\n",
        " u'1',\n",
        " u'control theory',\n",
        " u'chemical reactions',\n",
        " u'network',\n",
        " u'Lotka-Volterra systems',\n",
        " u'mitotic Cdc 2-cyclin B',\n",
        " u'convergence result',\n",
        " u'MDA-MB -231 metastatic breast cancer cells',\n",
        " u'B',\n",
        " u'cyclin',\n",
        " u'predator-prey systems',\n",
        " u'systems biology',\n",
        " u'Xenopus laevis oocyte maturation network',\n",
        " u'Cdk 1-cyclin B 1 translocation',\n",
        " u'reaction',\n",
        " u'Cdc 2 activation exhibits hysteresis',\n",
        " u'double-negative feedback loops',\n",
        " u'loop',\n",
        " u'population models',\n",
        " u'equilibrium points',\n",
        " u'HeLa cells',\n",
        " u'control systems',\n",
        " u'response functions',\n",
        " u'Cdk 1-cyclin B 1 redistribution',\n",
        " u'input-output properties',\n",
        " u'non-extinction property',\n",
        " u'chemical species',\n",
        " u'segment polarity gene network',\n",
        " u'reaction network',\n",
        " u'paper deals',\n",
        " u'time-varying systems',\n",
        " u'predator-prey interactions',\n",
        " u'saddle-node bifurcation']"
       ]
      }
     ],
     "prompt_number": 27
    },
    {
     "cell_type": "code",
     "collapsed": false,
     "input": [
      "[key for key in keywords_weighted.keys() if keywords_weighted[key] <= 5]"
     ],
     "language": "python",
     "metadata": {},
     "outputs": [
      {
       "output_type": "pyout",
       "prompt_number": 28,
       "text": [
        "[u'readout neurons',\n",
        " u'core design',\n",
        " u'mitosis work',\n",
        " u'cells act',\n",
        " u'United States hope',\n",
        " u'intracellular protein',\n",
        " u'European Commission',\n",
        " u'computation',\n",
        " u'wiring diagrams',\n",
        " u'DNA topoisomerase II',\n",
        " u'responsiveness',\n",
        " u'time-lapse epifluorescence microscopy',\n",
        " u'response threshold',\n",
        " u'stability test',\n",
        " u'unit length',\n",
        " u'acidic residues',\n",
        " u'cell-cell competition',\n",
        " u'Cdk',\n",
        " u'Monotone subsystems',\n",
        " u'drug combinations',\n",
        " u'Computational studies',\n",
        " u'activation',\n",
        " u'Wee 1 knockdown cells',\n",
        " u'2 n',\n",
        " u'target mRNA',\n",
        " u'cyclin B 1 phosphorylation',\n",
        " u'Computational modeling',\n",
        " u'Cdc 25C',\n",
        " u'level',\n",
        " u'phosphorylation',\n",
        " u'progesterone',\n",
        " u'tubule fluid flow',\n",
        " u'Turing phenomenon',\n",
        " u'25C',\n",
        " u'genomics approach',\n",
        " u'B 2',\n",
        " u'Previous work',\n",
        " u'hysteretic switch',\n",
        " u'candidate therapies',\n",
        " u'non-degradable cyclin B',\n",
        " u'peritubular',\n",
        " u'residue',\n",
        " u'600 mRNAs',\n",
        " u'cascade model',\n",
        " u'mitotic arrest',\n",
        " u'Mechanistic studies',\n",
        " u'microRNA regulation',\n",
        " u'cell-fate induction',\n",
        " u'HeLa cell cycle',\n",
        " u'tridiagonal systems',\n",
        " u'response dynamics',\n",
        " u'ultrasensitive functions',\n",
        " u'Positive-plus-negative oscillators',\n",
        " u'component',\n",
        " u'cyclin B 1-Cdk',\n",
        " u'multidrug combination',\n",
        " u'3 D collagen matrix',\n",
        " u'mRNA',\n",
        " u'interconnection structure',\n",
        " u'tasks--to transcriptional',\n",
        " u'Key features',\n",
        " u'microcircuit models',\n",
        " u'change',\n",
        " u'glomerulotubular balance',\n",
        " u'Cdc 2 regulation',\n",
        " u'inhibitor',\n",
        " u'Ser 287 dephosphorylation',\n",
        " u'Pareto sense',\n",
        " u'progesterone threshold',\n",
        " u'gene',\n",
        " u'cell-fate decisions',\n",
        " u'retroactivity',\n",
        " u'ribosome density',\n",
        " u'term',\n",
        " u'GSK -3beta',\n",
        " u'parameter ranges',\n",
        " u'scale invariance',\n",
        " u'General results',\n",
        " u'studies support',\n",
        " u'translational',\n",
        " u'Cdc 2 activates',\n",
        " u'landscape',\n",
        " u'use',\n",
        " u'transcriptional components',\n",
        " u'multisite phosphorylation-dephosphorylation cycle',\n",
        " u'switch-like character',\n",
        " u'luminal membrane solute entry',\n",
        " u'memory',\n",
        " u'Molecular Cell',\n",
        " u'phosphorylation sites',\n",
        " u'latter design',\n",
        " u'control parameters',\n",
        " u'mitotic state',\n",
        " u'Staphylococcus aureus',\n",
        " u'glycogen synthase kinase -3beta',\n",
        " u'Xenopus oocyte maturation',\n",
        " u'miR -124 transfection',\n",
        " u'abundance',\n",
        " u'tubule',\n",
        " u'translation profiles',\n",
        " u'Cdc 25',\n",
        " u'phosphorylated state',\n",
        " u'pitchfork bifurcation',\n",
        " u'control',\n",
        " u'luminal flow',\n",
        " u'display modularity',\n",
        " u'ligand-receptor interactions',\n",
        " u'process',\n",
        " u'switch-like oscillations',\n",
        " u'Positive feedback loops',\n",
        " u'German Federal Ministry',\n",
        " u'cell cycle oscillator',\n",
        " u'quot',\n",
        " u'delay',\n",
        " u'progesterone responsiveness',\n",
        " u'kidney function',\n",
        " u'pathway',\n",
        " u'translocation',\n",
        " u'profile',\n",
        " u'double-negative feedback loop',\n",
        " u'circuit',\n",
        " u'bistable spatiotemporal switches',\n",
        " u'reconstituted ultrasensitivity',\n",
        " u'Cdc 25C ultrasensitivity',\n",
        " u'cell-cell competition process',\n",
        " u'feedback architecture',\n",
        " u'reductionistic systems biology',\n",
        " u'cyclin B 1 abundance',\n",
        " u'findings show',\n",
        " u'cancer systems biology',\n",
        " u'scale-invariant behavior',\n",
        " u'diffusive instabilities',\n",
        " u'additive compound matrices',\n",
        " u'testable hypothesis',\n",
        " u'input-output systems',\n",
        " u'non-intuitive changes',\n",
        " u'Argonaute proteins',\n",
        " u'stability',\n",
        " u'basement membrane',\n",
        " u'cyclin degradation',\n",
        " u'dissipativity matrix',\n",
        " u'activator Cdc 25',\n",
        " u'Cdk 1 activity',\n",
        " u'metastatic cancer cells',\n",
        " u'systems theory',\n",
        " u'systems biologists',\n",
        " u'chromatin',\n",
        " u'CDK 1AF',\n",
        " u'combination',\n",
        " u'cell-fate commitment',\n",
        " u'progesterone-induced meiotic entry',\n",
        " u'resets Cdc 2',\n",
        " u'live-cell microscopy',\n",
        " u'front',\n",
        " u'time-varying inputs',\n",
        " u'polypeptide elongation',\n",
        " u'eukaryotic cell cycle',\n",
        " u'activates proteins',\n",
        " u'APC',\n",
        " u'Saccharomyces cerevisiae',\n",
        " u'energy',\n",
        " u'acid side chains',\n",
        " u'activator-repressor oscillators',\n",
        " u'Western analysis',\n",
        " u'frequency',\n",
        " u'paper addresses',\n",
        " u'binding sites',\n",
        " u'Michaelis-Menten quasi-steady state conditions',\n",
        " u'balance',\n",
        " u'control component',\n",
        " u'ULFO results',\n",
        " u'space',\n",
        " u'cytoskeletal effects',\n",
        " u'response time',\n",
        " u'parabolic arcs',\n",
        " u'induction',\n",
        " u'interdisciplinary approach',\n",
        " u'theory',\n",
        " u'rate-balance formalism',\n",
        " u'feedback control',\n",
        " u'cyclin B 1 accumulation',\n",
        " u'interphase state',\n",
        " u'possibility',\n",
        " u'multidrug response',\n",
        " u'histone H 3 phosphorylation',\n",
        " u'mitotic oscillator',\n",
        " u'insulation property',\n",
        " u'oscillator circuit',\n",
        " u'exit M phase-like states',\n",
        " u'1-cyclin',\n",
        " u'iterative stability analysis',\n",
        " u'protein function',\n",
        " u'phosphorylation-dephosphorylation cycle',\n",
        " u'miR -124-mediated regulation',\n",
        " u'near-constant amplitude',\n",
        " u'insulation',\n",
        " u'MAPK cascade',\n",
        " u'regulation',\n",
        " u'2',\n",
        " u'chromatin condensation',\n",
        " u'period orbits',\n",
        " u'modeling strategy',\n",
        " u'translation',\n",
        " u'GSK -3beta engages',\n",
        " u'valley',\n",
        " u'target',\n",
        " u'kinase cyclin B-Cdk 1',\n",
        " u'saddle-node bifurcations',\n",
        " u'ridges right',\n",
        " u'chemical biology approaches',\n",
        " u'tissue culture cells',\n",
        " u'Parameter modulation',\n",
        " u'cancer researchers',\n",
        " u'compartmental model',\n",
        " u'bifurcating valleys',\n",
        " u'non-saturating sensitivity range',\n",
        " u'miR',\n",
        " u'Lateral inhibition',\n",
        " u'collagen matrix',\n",
        " u'extracellular matrix',\n",
        " u'competition effects',\n",
        " u'mechanism',\n",
        " u'ribosome occupancy',\n",
        " u'reaction kinetics',\n",
        " u'pre-stimulus level',\n",
        " u'interconnection',\n",
        " u'tyrosine phosphorylation sites',\n",
        " u'stability analysis',\n",
        " u'cell fate switch',\n",
        " u'Cdc 2 activation',\n",
        " u'interconnection terms',\n",
        " u'stimulus triggers',\n",
        " u'energy consumption',\n",
        " u'Wee',\n",
        " u'show',\n",
        " u'Cdk 1-cyclin B 1',\n",
        " u'interspace pressure act',\n",
        " u'analog computation',\n",
        " u'threshold',\n",
        " u'cyclin B 1',\n",
        " u'parameter modulation',\n",
        " u'kinase',\n",
        " u'case study',\n",
        " u'\\u223c 15\\u2009 min',\n",
        " u'systems-level logic',\n",
        " u'modulating progesterone responsiveness',\n",
        " u'oocyte maturation',\n",
        " u'-124',\n",
        " u'secant criterion',\n",
        " u'marker beads',\n",
        " u'peritubular membrane solute exit',\n",
        " u'mitogen-activated protein kinase',\n",
        " u'S-phase completion',\n",
        " u'positive-plus-negative feedback',\n",
        " u'bifurcation',\n",
        " u'background signal level',\n",
        " u'reference condition',\n",
        " u'G 1 phase',\n",
        " u'tubule epithelium',\n",
        " u'1-Cdk',\n",
        " u'diffusion terms',\n",
        " u'Boolean models',\n",
        " u'coding sequence',\n",
        " u'input-output characteristics',\n",
        " u'cyclin B knockdown',\n",
        " u'Cdc 2-cyclin B',\n",
        " u'passivity properties',\n",
        " u'parameter variation',\n",
        " u'miR -124 targets',\n",
        " u'Xenopus laevis',\n",
        " u'state',\n",
        " u'constituent properties',\n",
        " u'Hill kinetics',\n",
        " u'membrane',\n",
        " u'approach',\n",
        " u'loops exhibit ultrasensitive responses',\n",
        " u'noise-filtering capabilities',\n",
        " u'covalent cycles',\n",
        " u'cell volume',\n",
        " u'region',\n",
        " u'drug',\n",
        " u'feedback loop functions',\n",
        " u'glucose gradient',\n",
        " u'gene expression posttranscriptionally',\n",
        " u'robustness property',\n",
        " u'load',\n",
        " u'cell fluorescence microscopy',\n",
        " u'cancer',\n",
        " u'mRNA levels',\n",
        " u'mRNA decay',\n",
        " u'cell membrane',\n",
        " u'load-induced modulation',\n",
        " u'order neurons',\n",
        " u'findings offer',\n",
        " u'equation systems',\n",
        " u'invasion front',\n",
        " u'computer simulations',\n",
        " u'miRNA-mediated regulation',\n",
        " u'Complex networks',\n",
        " u'transcriptional networks',\n",
        " u'Waddington',\n",
        " u'Escherichia coli',\n",
        " u'feedback term',\n",
        " u'HEK 293T cells',\n",
        " u'strain field',\n",
        " u'EU-US workshop',\n",
        " u'use drug combinations',\n",
        " u'alternative representation',\n",
        " u'miRNA effector complexes',\n",
        " u'bistable kinase network',\n",
        " u'case',\n",
        " u'response times',\n",
        " u'core components',\n",
        " u'dephosphorylation reactions',\n",
        " u'Xenopus oocytes',\n",
        " u'CDK',\n",
        " u'chemical reaction networks',\n",
        " u'behavior',\n",
        " u'loop system',\n",
        " u'property',\n",
        " u'neuron',\n",
        " u'Goldbeter model',\n",
        " u'Xenopus extracts',\n",
        " u'protein',\n",
        " u'contraction theory',\n",
        " u'translation initiation',\n",
        " u'ribosome',\n",
        " u'paper studies',\n",
        " u'cyclin B 1-Cdk mediates',\n",
        " u'uniform linearizations',\n",
        " u'3-6 h',\n",
        " u'signal transduction module',\n",
        " u'protein synthesis inhibitors',\n",
        " u'transcription factor',\n",
        " u'polypeptide antibiotics',\n",
        " u'mass action',\n",
        " u'circadian rhythm',\n",
        " u'effect',\n",
        " u'12 proteins',\n",
        " u'front cell leadership',\n",
        " u'nonlinear network',\n",
        " u'invariance',\n",
        " u'cycle',\n",
        " u'Cdc',\n",
        " u'tunable frequency',\n",
        " u'70 h',\n",
        " u'candidate mitotic cyclins',\n",
        " u'model',\n",
        " u'stability result',\n",
        " u'cell-fate',\n",
        " u'nonlinear systems',\n",
        " u'Xenopus embryos',\n",
        " u'Marc Kirschner',\n",
        " u'network model',\n",
        " u'Cdc 25C activation',\n",
        " u'translation rate',\n",
        " u'alternative ways',\n",
        " u'plug-and-play interconnection architecture',\n",
        " u'n',\n",
        " u'limit cycle',\n",
        " u'systems biology approaches',\n",
        " u'equation models',\n",
        " u'sucrose gradients',\n",
        " u'bistable mitotic',\n",
        " u'fate',\n",
        " u'time scale',\n",
        " u'valley reversibly splitting',\n",
        " u'phosphorylation site',\n",
        " u'covalent modification cycle',\n",
        " u'-3beta',\n",
        " u'bistable',\n",
        " u'signal',\n",
        " u'Biological signal transduction networks',\n",
        " u'flux',\n",
        " u'nonfading memory',\n",
        " u'cell fate',\n",
        " u'luminal',\n",
        " u'pattern maintenance',\n",
        " u'mRNA abundance',\n",
        " u'cell cycle regulation',\n",
        " u'scale',\n",
        " u'National Cancer Institute',\n",
        " u'cell front',\n",
        " u'polypeptide degradation',\n",
        " u'drug pairs',\n",
        " u'mitotic',\n",
        " u'growth response',\n",
        " u'biology',\n",
        " u'noise',\n",
        " u'bistable triggers',\n",
        " u'2 knockdowns',\n",
        " u'ODE models',\n",
        " u'CDK 1AF cells',\n",
        " u'protein abundance',\n",
        " u'tubule epithelial cells',\n",
        " u'cyclins B 1',\n",
        " u'hysteretic response',\n",
        " u'stability property',\n",
        " u'modules--semiindependent collections',\n",
        " u'cell pH',\n",
        " u'Na',\n",
        " u'Myt 1',\n",
        " u'step increase',\n",
        " u'Uri Alon',\n",
        " u'input streams',\n",
        " u'ridge',\n",
        " u'mechanism-independent method',\n",
        " u'ODE',\n",
        " u'synthesis',\n",
        " u'multisite phosphorylation',\n",
        " u'transcriptional systems',\n",
        " u'siRNA-resistant form',\n",
        " u'volume',\n",
        " u'knockdown',\n",
        " u'miRNA',\n",
        " u'translational inhibition',\n",
        " u'inhibitors Wee 1',\n",
        " u'cell cycles',\n",
        " u'CDK 1 oscillations',\n",
        " u'2 knockdown cells',\n",
        " u'robustness',\n",
        " u'ODE model',\n",
        " u'Cdc 2',\n",
        " u'Poincar \\xe9-Bendixson property',\n",
        " u'confocal imaging',\n",
        " u'cyclic networks',\n",
        " u'ribosome drop-off',\n",
        " u'orbit',\n",
        " u'Hill coefficients',\n",
        " u'Riccati equation',\n",
        " u'Cdk 1',\n",
        " u'non-zero output impedance',\n",
        " u'Cdk 1-APC system',\n",
        " u'cyclin B 1-CDK',\n",
        " u'Protein phosphorylation',\n",
        " u'promoter-binding sites',\n",
        " u'cyclin B degradation',\n",
        " u'network behaviors',\n",
        " u'test',\n",
        " u'spike trains',\n",
        " u'picture',\n",
        " u'salt bridges',\n",
        " u'interconnection matrix',\n",
        " u'meiotic kinase network',\n",
        " u'submaximal rates',\n",
        " u'cyclin B 1-',\n",
        " u'peritubular cell membranes',\n",
        " u'feedback mechanism',\n",
        " u'2-cyclin',\n",
        " u'transporter',\n",
        " u'structure',\n",
        " u'matrix',\n",
        " u'parameter space',\n",
        " u'condensation',\n",
        " u'translational response',\n",
        " u'biologists need',\n",
        " u'cell cycle progression',\n",
        " u'Wee 1A',\n",
        " u'time',\n",
        " u'translational rate',\n",
        " u'mRNA targets',\n",
        " u'Boolean representation']"
       ]
      }
     ],
     "prompt_number": 28
    }
   ],
   "metadata": {}
  }
 ]
}